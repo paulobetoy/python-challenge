{
 "cells": [
  {
   "cell_type": "code",
   "execution_count": 1,
   "metadata": {},
   "outputs": [],
   "source": [
    "import os\n",
    "import csv\n",
    "\n",
    "budgetPath=os.path.join(\"budget_data.csv\")"
   ]
  },
  {
   "cell_type": "code",
   "execution_count": 2,
   "metadata": {},
   "outputs": [],
   "source": [
    "numbers=[]\n",
    "def average(numbers):\n",
    "    length=len(numbers)\n",
    "    total=0.0\n",
    "    for number in numbers:\n",
    "        total+=number \n",
    "    return total/length"
   ]
  },
  {
   "cell_type": "code",
   "execution_count": 3,
   "metadata": {
    "scrolled": true
   },
   "outputs": [],
   "source": [
    "#empieza en 0 las columnas,  despues del for es como nombras a las filas CON LOS []\n",
    "\n",
    "with open (budgetPath, newline='') as csvfile:\n",
    "    csvreader=csv.reader(csvfile, delimiter=',')\n",
    "    csv_header=next(csvreader)\n",
    "    #print(f\"CSV HEADER:{csv_header}\")\n",
    "    \n",
    "    total_months=[]\n",
    "    total=[]\n",
    "    total_profit=[]\n",
    "    avg_profit=[]\n",
    "    max_profit=[]\n",
    "    min_losses=[] \n",
    "    \n",
    "    for row in csvreader:\n",
    "        total_months.append(row[0])\n",
    "        total.append(int(row[1]))\n",
    "       \n",
    "        \n",
    "        \n",
    "    \n",
    "   \n",
    "        \n",
    "        \n",
    "        \n",
    "         "
   ]
  },
  {
   "cell_type": "markdown",
   "metadata": {},
   "source": []
  },
  {
   "cell_type": "code",
   "execution_count": 4,
   "metadata": {},
   "outputs": [],
   "source": [
    "    total_profit=sum(total)  \n",
    "    avg_profit=average(total)\n",
    "    max_profit=max(total)\n",
    "    min_losses=min(total)\n",
    "\n",
    " \n",
    "        "
   ]
  },
  {
   "cell_type": "code",
   "execution_count": 5,
   "metadata": {},
   "outputs": [
    {
     "name": "stdout",
     "output_type": "stream",
     "text": [
      "Financial Analysis\n",
      "Total Months: 86\n",
      "total: $38382578\n",
      "Average Change: 446309.0465116279\n",
      "Greatest Increase in profit: $1170593\n",
      "Greatest Decrease in profit: $-1196225\n"
     ]
    }
   ],
   "source": [
    "    print(\"Financial Analysis\")\n",
    "    print(\"Total Months: \"+(str(len(total_months))))\n",
    "    print(\"total: $\"+str(total_profit)) \n",
    "    print(\"Average Change: \"+str(avg_profit))\n",
    "    print(\"Greatest Increase in profit: $\"+str(max_profit))\n",
    "    print(\"Greatest Decrease in profit: $\"+str(min_losses))"
   ]
  },
  {
   "cell_type": "code",
   "execution_count": 7,
   "metadata": {},
   "outputs": [],
   "source": [
    "import sys\n",
    "f = open(\"PyBank.txt\", 'w')\n",
    "f.write(\"Financial Analysis\")\n",
    "f.write(\"Total Months: \"+(str(len(total_months))))\n",
    "f.write(\"total: $\"+str(total_profit)) \n",
    "f.write(\"Average Change: \"+str(avg_profit))\n",
    "f.write(\"Greatest Increase in profit: $\"+str(max_profit))\n",
    "f.write(\"Greatest Decrease in profit: $\"+str(min_losses))\n",
    "\n",
    "#sys.stdout = f\n",
    "f.close()"
   ]
  },
  {
   "cell_type": "code",
   "execution_count": null,
   "metadata": {},
   "outputs": [],
   "source": []
  },
  {
   "cell_type": "code",
   "execution_count": null,
   "metadata": {},
   "outputs": [],
   "source": []
  },
  {
   "cell_type": "code",
   "execution_count": null,
   "metadata": {},
   "outputs": [],
   "source": []
  },
  {
   "cell_type": "code",
   "execution_count": null,
   "metadata": {},
   "outputs": [],
   "source": []
  },
  {
   "cell_type": "markdown",
   "metadata": {},
   "source": [
    "\n"
   ]
  }
 ],
 "metadata": {
  "kernelspec": {
   "display_name": "Python 3",
   "language": "python",
   "name": "python3"
  },
  "language_info": {
   "codemirror_mode": {
    "name": "ipython",
    "version": 3
   },
   "file_extension": ".py",
   "mimetype": "text/x-python",
   "name": "python",
   "nbconvert_exporter": "python",
   "pygments_lexer": "ipython3",
   "version": "3.7.4"
  }
 },
 "nbformat": 4,
 "nbformat_minor": 2
}
