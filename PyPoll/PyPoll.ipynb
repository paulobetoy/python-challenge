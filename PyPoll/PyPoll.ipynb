{
 "cells": [
  {
   "cell_type": "code",
   "execution_count": 1,
   "metadata": {},
   "outputs": [],
   "source": [
    "import os\n",
    "import csv\n",
    "\n",
    "electionPath=os.path.join(\"election_data.csv\")"
   ]
  },
  {
   "cell_type": "code",
   "execution_count": 2,
   "metadata": {},
   "outputs": [],
   "source": [
    "with open (electionPath, newline='') as csvfile:\n",
    "    csvreader=csv.reader(csvfile, delimiter=',')\n",
    "    csv_header=next(csvreader)\n",
    "    \n",
    "    total_candidates=[]\n",
    "    total_voters=[]\n",
    "    for row in csvreader:\n",
    "        total_voters.append(row[0])\n",
    "        total_candidates.append(row[2])\n",
    "        \n",
    "    khan_total=total_candidates.count(\"Khan\")\n",
    "    correy_total=total_candidates.count(\"Correy\")\n",
    "    li_total=total_candidates.count(\"Li\")\n",
    "    otooley_total=total_candidates.count(\"O'Tooley\")\n",
    "        \n",
    "   \n",
    "    \n",
    "  "
   ]
  },
  {
   "cell_type": "code",
   "execution_count": 3,
   "metadata": {},
   "outputs": [],
   "source": [
    "        \n",
    "            \n",
    "    khan_percent=round((khan_total/(len(total_candidates)))*100,2)\n",
    "    correy_percent=round((correy_total/(len(total_candidates)))*100,2)\n",
    "    li_percent=round((li_total/(len(total_candidates)))*100,2)\n",
    "    otooley_percent=round((otooley_total/(len(total_candidates)))*100,2)\n",
    "\n",
    "    candidates=[\"Khan\",\"Correy\",\"Li\",\"O'Tooles\"]\n",
    "    \n",
    "    winner=[]\n",
    "\n",
    "dic = {\"kahn\": khan_percent,\"corey\":correy_percent,\"li\":li_percent}\n",
    "           "
   ]
  },
  {
   "cell_type": "code",
   "execution_count": 4,
   "metadata": {},
   "outputs": [
    {
     "name": "stdout",
     "output_type": "stream",
     "text": [
      "Election Results\n",
      "Total Votes: 3521001\n",
      "Khan: 63.0% 2218231\n",
      "Corey: 20.0% 704200\n",
      "Li: 14.0% 492940\n",
      "O'tooley: 3.0% 105630\n",
      "Winner: []\n"
     ]
    }
   ],
   "source": [
    "    print(\"Election Results\")\n",
    "    print(\"Total Votes: \"+(str(len(total_voters))))\n",
    "    print(\"Khan: \"+str(khan_percent)+\"% \"+str(khan_total))\n",
    "    print(\"Corey: \"+str(correy_percent)+\"% \"+str(correy_total))\n",
    "    print(\"Li: \"+ str(li_percent)+\"% \"+str(li_total))\n",
    "    print(\"O'tooley: \"+str(otooley_percent)+\"% \"+str(otooley_total)) \n",
    "    print(\"Winner: \"+str(winner))\n",
    "    "
   ]
  },
  {
   "cell_type": "code",
   "execution_count": 5,
   "metadata": {},
   "outputs": [],
   "source": [
    "import sys\n",
    "f = open(\"PyPoll.txt\", 'w')\n",
    "f.write(\"Election Results\")\n",
    "f.write(\"Total Votes: \"+(str(len(total_voters))))\n",
    "f.write(\"Khan: \"+str(khan_percent)+\"% \"+str(khan_total))\n",
    "f.write(\"Corey: \"+str(correy_percent)+\"% \"+str(correy_total))\n",
    "f.write(\"Li: \"+ str(li_percent)+\"% \"+str(li_total))\n",
    "f.write(\"O'tooley: \"+str(otooley_percent)+\"% \"+str(otooley_total)) \n",
    "f.write(\"Winner: \"+str(winner))\n",
    "\n",
    "#sys.stdout = f\n",
    "f.close()"
   ]
  },
  {
   "cell_type": "code",
   "execution_count": null,
   "metadata": {},
   "outputs": [],
   "source": []
  },
  {
   "cell_type": "code",
   "execution_count": null,
   "metadata": {},
   "outputs": [],
   "source": []
  },
  {
   "cell_type": "code",
   "execution_count": null,
   "metadata": {},
   "outputs": [],
   "source": []
  },
  {
   "cell_type": "code",
   "execution_count": null,
   "metadata": {},
   "outputs": [],
   "source": []
  },
  {
   "cell_type": "code",
   "execution_count": null,
   "metadata": {},
   "outputs": [],
   "source": []
  },
  {
   "cell_type": "code",
   "execution_count": null,
   "metadata": {},
   "outputs": [],
   "source": []
  }
 ],
 "metadata": {
  "kernelspec": {
   "display_name": "Python 3",
   "language": "python",
   "name": "python3"
  },
  "language_info": {
   "codemirror_mode": {
    "name": "ipython",
    "version": 3
   },
   "file_extension": ".py",
   "mimetype": "text/x-python",
   "name": "python",
   "nbconvert_exporter": "python",
   "pygments_lexer": "ipython3",
   "version": "3.7.4"
  }
 },
 "nbformat": 4,
 "nbformat_minor": 2
}
